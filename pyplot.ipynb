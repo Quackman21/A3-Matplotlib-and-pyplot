{
 "cells": [
  {
   "cell_type": "markdown",
   "metadata": {},
   "source": [
    "# Web Mining and Applied NLP (44-620)\n",
    "\n",
    "## Matplotlib and pyplot\n",
    "\n",
    "### Student Name:Ivan Quackenbush\n",
    "\n",
    "#### Github clickable link:https://github.com/Quackman21/A3-Matplotlib-and-pyplot\n",
    "\n",
    "Perform the tasks described in the Markdown cells below.  When you have completed the assignment make sure your code cells have all been run (and have output beneath them) and ensure you have committed and pushed ALL of your changes to your assignment repository.\n",
    "\n",
    "Every question that requires you to write code will have a code cell underneath it; you may either write your entire solution in that cell or write it in a python file (`.py`), then import and run the appropriate code to answer the question.\n",
    "\n",
    "Do not use other external modules except `matplotlib` and `pyplot` (e.g. `math`, etc) for this assignment unless you are explicitly instructed to, though you may use built in python functions (`min`, `max`, etc) as you wish.\n",
    "\n",
    "For all of these questions, your plots must have an appropriate title and labeled axes.  Use the Matplotlib documentation as necessary to guide you through these exercises."
   ]
  },
  {
   "cell_type": "markdown",
   "metadata": {},
   "source": [
    "1. Given the text below, create a bar plot (or a horizontal bar plot) that shows the frequency distribution of characters in the string. \n",
    "A dictionary has been created for you containing the characters and the frequencies of the characters.\n",
    "Make sure your bar plot has the bars labelled correctly (with the character it represents the frequency of).\n"
   ]
  },
  {
   "cell_type": "markdown",
   "metadata": {},
   "source": []
  },
  {
   "cell_type": "markdown",
   "metadata": {},
   "source": [
    "### Create and activate a Python virtual environment. \n",
    "### Before starting the project, try all these imports FIRST\n",
    "### Address any errors you get running this code cell \n",
    "### by installing the necessary packages into your active Python environment.\n",
    "### Try to resolve issues using your materials and the web.\n",
    "### If that doesn't work, ask for help in the discussion forums.\n",
    "### You can't complete the exercises until you import these - start early! \n",
    "### We also import Counter and randint (included in the Python Standard Library)."
   ]
  },
  {
   "cell_type": "code",
   "execution_count": 5,
   "metadata": {},
   "outputs": [],
   "source": []
  },
  {
   "cell_type": "code",
   "execution_count": 6,
   "metadata": {},
   "outputs": [
    {
     "name": "stdout",
     "output_type": "stream",
     "text": [
      "All prereqs installed.\n",
      "Package                       Version\n",
      "----------------------------- -----------\n",
      "anyio                         3.6.1\n",
      "appnope                       0.1.3\n",
      "argon2-cffi                   21.3.0\n",
      "argon2-cffi-bindings          21.2.0\n",
      "attrs                         22.1.0\n",
      "Babel                         2.10.3\n",
      "backcall                      0.2.0\n",
      "backports.functools-lru-cache 1.6.4\n",
      "beautifulsoup4                4.11.1\n",
      "bleach                        5.0.1\n",
      "brotlipy                      0.7.0\n",
      "certifi                       2019.11.28\n",
      "cffi                          1.15.1\n",
      "charset-normalizer            2.0.4\n",
      "conda                         4.14.0\n",
      "conda-package-handling        1.8.1\n",
      "cryptography                  37.0.1\n",
      "cycler                        0.10.0\n",
      "decorator                     5.1.1\n",
      "defusedxml                    0.7.1\n",
      "entrypoints                   0.4\n",
      "fastjsonschema                2.16.1\n",
      "flit_core                     3.7.1\n",
      "idna                          3.3\n",
      "importlib-metadata            4.11.4\n",
      "importlib-resources           5.9.0\n",
      "ipykernel                     5.5.5\n",
      "ipython                       7.33.0\n",
      "ipython-genutils              0.2.0\n",
      "jedi                          0.18.1\n",
      "Jinja2                        3.1.2\n",
      "joblib                        1.2.0\n",
      "json5                         0.9.5\n",
      "jsonschema                    4.9.1\n",
      "jupyter-client                7.0.6\n",
      "jupyter_core                  4.11.1\n",
      "jupyter-server                1.18.1\n",
      "jupyterlab                    3.4.5\n",
      "jupyterlab-pygments           0.2.2\n",
      "jupyterlab-server             2.15.0\n",
      "kiwisolver                    1.1.0\n",
      "MarkupSafe                    2.1.1\n",
      "matplotlib                    3.2.1\n",
      "matplotlib-inline             0.1.6\n",
      "mistune                       0.8.4\n",
      "nbclassic                     0.4.3\n",
      "nbclient                      0.5.13\n",
      "nbconvert                     6.4.5\n",
      "nbformat                      5.4.0\n",
      "nest-asyncio                  1.5.5\n",
      "notebook                      6.4.12\n",
      "notebook-shim                 0.1.0\n",
      "numpy                         1.18.1\n",
      "packaging                     21.3\n",
      "pandas                        1.0.3\n",
      "pandocfilters                 1.5.0\n",
      "parso                         0.8.3\n",
      "patsy                         0.5.1\n",
      "pexpect                       4.8.0\n",
      "pickleshare                   0.7.5\n",
      "pip                           22.1.2\n",
      "pkgutil_resolve_name          1.3.10\n",
      "prometheus-client             0.14.1\n",
      "prompt-toolkit                3.0.30\n",
      "ptyprocess                    0.7.0\n",
      "pycosat                       0.6.3\n",
      "pycparser                     2.21\n",
      "Pygments                      2.13.0\n",
      "pyOpenSSL                     22.0.0\n",
      "pyparsing                     3.0.9\n",
      "pyrsistent                    0.18.1\n",
      "PySocks                       1.7.1\n",
      "python-dateutil               2.8.2\n",
      "pytz                          2022.2.1\n",
      "pyzmq                         19.0.2\n",
      "requests                      2.28.1\n",
      "ruamel-yaml-conda             0.15.100\n",
      "scikit-learn                  1.0.2\n",
      "scipy                         1.4.1\n",
      "seaborn                       0.11.2\n",
      "Send2Trash                    1.8.0\n",
      "setuptools                    61.2.0\n",
      "six                           1.16.0\n",
      "sklearn                       0.0\n",
      "sniffio                       1.2.0\n",
      "soupsieve                     2.3.2.post1\n",
      "statsmodels                   0.11.1\n",
      "terminado                     0.15.0\n",
      "testpath                      0.6.0\n",
      "threadpoolctl                 3.1.0\n",
      "toolz                         0.12.0\n",
      "tornado                       6.2\n",
      "tqdm                          4.64.0\n",
      "traitlets                     5.3.0\n",
      "typing_extensions             4.3.0\n",
      "urllib3                       1.26.11\n",
      "wcwidth                       0.2.5\n",
      "webencodings                  0.5.1\n",
      "websocket-client              1.3.3\n",
      "wheel                         0.37.1\n",
      "zipp                          3.8.1\n"
     ]
    }
   ],
   "source": [
    "from collections import Counter\n",
    "from random import randint\n",
    "import matplotlib.pyplot as plt\n",
    "\n",
    "print('All prereqs installed.')\n",
    "!pip list"
   ]
  },
  {
   "cell_type": "code",
   "execution_count": 7,
   "metadata": {},
   "outputs": [
    {
     "data": {
      "image/png": "[encoded data removed]",
      "text/plain": [
       "<Figure size 432x288 with 1 Axes>"
      ]
     },
     "metadata": {
      "needs_background": "light"
     },
     "output_type": "display_data"
    }
   ],
   "source": [
    "from collections import Counter\n",
    "TEXT = \"At three o’clock precisely I was at Baker Street, but Holmes had not yet returned. The landlady informed me that he had left the house shortly after eight o’clock in the morning. I sat down beside the fire, however, with the intention of awaiting him, however long he might be. I was already deeply interested in his inquiry, for, though it was surrounded by none of the grim and strange features which were associated with the two crimes which I have already recorded, still, the nature of the case and the exalted station of his client gave it a character of its own. Indeed, apart from the nature of the investigation which my friend had on hand, there was something in his masterly grasp of a situation, and his keen, incisive reasoning, which made it a pleasure to me to study his system of work, and to follow the quick, subtle methods by which he disentangled the most inextricable mysteries. So accustomed was I to his invariable success that the very possibility of his failing had ceased to enter into my head.\".lower()\n",
    "letter_freq = dict(Counter(TEXT))\n",
    "\n",
    "# make a bar plot with an appropriate title, correct xtick labels, and labeled axes\n",
    "\n",
    "import matplotlib.pyplot as plt\n",
    "from collections import Counter\n",
    "\n",
    "TEXT = \"At three o’clock precisely I was at Baker Street, but Holmes had not yet returned. The landlady informed me that he had left the house shortly after eight o’clock in the morning. I sat down beside the fire, however, with the intention of awaiting him, however long he might be. I was already deeply interested in his inquiry, for, though it was surrounded by none of the grim and strange features which were associated with the two crimes which I have already recorded, still, the nature of the case and the exalted station of his client gave it a character of its own. Indeed, apart from the nature of the investigation which my friend had on hand, there was something in his masterly grasp of a situation, and his keen, incisive reasoning, which made it a pleasure to me to study his system of work, and to follow the quick, subtle methods by which he disentangled the most inextricable mysteries. So accustomed was I to his invariable success that the very possibility of his failing had ceased to enter into my head.\".lower()\n",
    "\n",
    "letter_freq = dict(Counter(TEXT))\n",
    "\n",
    "letters = letter_freq.keys()\n",
    "frequencies = letter_freq.values()\n",
    "\n",
    "plt.bar(letters, frequencies)\n",
    "plt.title(\"Letter Frequencies in the Text\")\n",
    "plt.xlabel(\"Letters\")\n",
    "plt.ylabel(\"Frequency\")\n",
    "plt.xticks(rotation=45)\n",
    "plt.show()\n"
   ]
  },
  {
   "cell_type": "markdown",
   "metadata": {},
   "source": [
    "2. Generate a sequence of at least 5 random numbers (integers are fine), and visualize the data using both `scatter` and `plot` on different axes.  You may use the index of the value as its x value in the plot."
   ]
  },
  {
   "cell_type": "code",
   "execution_count": 9,
   "metadata": {},
   "outputs": [
    {
     "data": {
      "image/png": "[encoded data removed]",
      "text/plain": [
       "<Figure size 432x288 with 1 Axes>"
      ]
     },
     "metadata": {
      "needs_background": "light"
     },
     "output_type": "display_data"
    }
   ],
   "source": [
    "import random\n",
    "import matplotlib.pyplot as plt\n",
    "\n",
    "# Generate a sequence of 5 random integers\n",
    "random_numbers = [random.randint(1, 100) for _ in range(5)]\n",
    "\n",
    "# Create a list of indices for x values in the plot\n",
    "indices = list(range(len(random_numbers)))\n",
    "\n",
    "# Create a new figure and a single subplot (axis)\n",
    "fig, ax = plt.subplots()\n",
    "\n",
    "# Plot scatter plot and line plot on the same axis\n",
    "ax.scatter(indices, random_numbers, color='blue', label='Scatter Plot')\n",
    "ax.plot(indices, random_numbers, color='red', label='Line Plot')\n",
    "\n",
    "# Set title, x-label, and y-label\n",
    "ax.set_title('Random Numbers')\n",
    "ax.set_xlabel('Index')\n",
    "ax.set_ylabel('Random Numbers')\n",
    "\n",
    "# Add a legend\n",
    "ax.legend()\n",
    "\n",
    "# Display the plot\n",
    "plt.show()\n"
   ]
  },
  {
   "cell_type": "markdown",
   "metadata": {},
   "source": [
    "3. Do the same question as above, but change the syle and color of both the scatter and the plot."
   ]
  },
  {
   "cell_type": "code",
   "execution_count": 11,
   "metadata": {},
   "outputs": [
    {
     "data": {
      "image/png": "[encoded data removed]",
      "text/plain": [
       "<Figure size 432x288 with 1 Axes>"
      ]
     },
     "metadata": {
      "needs_background": "light"
     },
     "output_type": "display_data"
    }
   ],
   "source": [
    "import random\n",
    "import matplotlib.pyplot as plt\n",
    "\n",
    "# Generate a sequence of 5 random integers\n",
    "random_numbers = [random.randint(1, 100) for _ in range(5)]\n",
    "\n",
    "# Create a list of indices for x values in the plot\n",
    "indices = list(range(len(random_numbers)))\n",
    "\n",
    "# Create a new figure and a single subplot (axis)\n",
    "fig, ax = plt.subplots()\n",
    "\n",
    "# Plot scatter plot and line plot on the same axis\n",
    "ax.scatter(indices, random_numbers, color='green', marker='o', s=80, label='Scatter Plot')\n",
    "ax.plot(indices, random_numbers, color='purple', linestyle='--', linewidth=2, marker='s', markersize=8, label='Line Plot')\n",
    "\n",
    "# Set title, x-label, and y-label\n",
    "ax.set_title('Random Numbers')\n",
    "ax.set_xlabel('Index')\n",
    "ax.set_ylabel('Random Numbers')\n",
    "\n",
    "# Add a legend\n",
    "ax.legend()\n",
    "\n",
    "# Display the plot\n",
    "plt.show()\n"
   ]
  },
  {
   "cell_type": "markdown",
   "metadata": {},
   "source": [
    "4. Given the data sets below, plot or scatter both on the same set of axes.  You are plotting the time it takes to execute a sorting algorithm on a list of a given size; your x axis should be the size, and the y axis is time.  Assume that `insertion_sort_times[i]` is how long it took to sort a list of length `sizes[i]`.  Add a legend to your plot showing which is insertion sort and which is merge sort.  Use the variable names to determine which data is which. "
   ]
  },
  {
   "cell_type": "code",
   "execution_count": 12,
   "metadata": {},
   "outputs": [
    {
     "data": {
      "image/png": "[encoded data removed]",
      "text/plain": [
       "<Figure size 432x288 with 1 Axes>"
      ]
     },
     "metadata": {
      "needs_background": "light"
     },
     "output_type": "display_data"
    }
   ],
   "source": [
    "import matplotlib.pyplot as plt\n",
    "\n",
    "sizes = [10, 20, 50, 100, 1000, 5000]\n",
    "insertion_sort_times = [0.0010252999999999998, 0.0027026999999999954, 0.010147200000000002, 0.0381137, 3.6303399, 91.2180796]\n",
    "merge_sort_times = [0.00161889999999687, 0.003635600000009731, 0.0090655000000055, 0.020108000000007564, 0.2687474000000094, 1.6147050999999948]\n",
    "\n",
    "# Create a new figure and a single subplot (axis)\n",
    "fig, ax = plt.subplots()\n",
    "\n",
    "# Plot insertion sort times as a scatter plot\n",
    "ax.scatter(sizes, insertion_sort_times, color='blue', marker='o', label='Insertion Sort')\n",
    "\n",
    "# Plot merge sort times as a scatter plot\n",
    "ax.scatter(sizes, merge_sort_times, color='red', marker='s', label='Merge Sort')\n",
    "\n",
    "# Set title, x-label, and y-label\n",
    "ax.set_title('Sorting Algorithm Execution Time')\n",
    "ax.set_xlabel('List Size')\n",
    "ax.set_ylabel('Time (seconds)')\n",
    "\n",
    "# Add a legend\n",
    "ax.legend()\n",
    "\n",
    "# Display the plot\n",
    "plt.show()\n",
    "\n",
    "\n"
   ]
  }
 ],
 "metadata": {
  "kernelspec": {
   "display_name": "Python 3",
   "language": "python",
   "name": "python3"
  },
  "language_info": {
   "codemirror_mode": {
    "name": "ipython",
    "version": 3
   },
   "file_extension": ".py",
   "mimetype": "text/x-python",
   "name": "python",
   "nbconvert_exporter": "python",
   "pygments_lexer": "ipython3",
   "version": "3.7.13"
  }
 },
 "nbformat": 4,
 "nbformat_minor": 4
}
